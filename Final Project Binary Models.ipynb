{
 "cells": [
  {
   "cell_type": "code",
   "execution_count": 35,
   "metadata": {},
   "outputs": [
    {
     "data": {
      "text/plain": [
       "<bound method NDFrame.head of         GoodComment  MinutesAfterStory  SameAuthor  compound    neg    neu  \\\n",
       "0              True                334       False    0.0000  0.000  1.000   \n",
       "1             False                484       False   -0.1027  0.060  0.940   \n",
       "2              True                 50       False    0.2732  0.000  0.826   \n",
       "3             False                 42       False    0.0000  0.000  1.000   \n",
       "4              True                315       False   -0.1280  0.176  0.824   \n",
       "5              True               1758       False    0.9523  0.000  0.861   \n",
       "6              True                182       False    0.0000  0.000  1.000   \n",
       "7             False                192       False    0.0000  0.000  1.000   \n",
       "8              True                  8       False    0.0000  0.000  1.000   \n",
       "9             False                 27       False   -0.1531  0.063  0.888   \n",
       "10            False                217       False   -0.7820  0.197  0.803   \n",
       "11             True                 17       False    0.0000  0.000  1.000   \n",
       "12             True                  4       False    0.7096  0.000  0.803   \n",
       "13            False                327       False    0.9261  0.024  0.825   \n",
       "14            False                 39       False    0.3860  0.057  0.847   \n",
       "15            False               1359       False    0.0000  0.000  1.000   \n",
       "16             True                126       False    0.8993  0.017  0.851   \n",
       "17            False                111       False    0.5093  0.128  0.717   \n",
       "18            False                521       False    0.0000  0.000  1.000   \n",
       "19             True                 34       False    0.7964  0.034  0.733   \n",
       "20            False                230       False   -0.3612  0.099  0.901   \n",
       "21            False               1635       False    0.5672  0.102  0.739   \n",
       "22            False                 43       False   -0.7351  0.158  0.842   \n",
       "23            False               1125       False    0.5599  0.086  0.808   \n",
       "24             True                 51       False    0.8122  0.061  0.780   \n",
       "25            False                119       False    0.7550  0.000  0.795   \n",
       "26             True                 55       False   -0.1779  0.298  0.497   \n",
       "27             True                145       False    0.6705  0.000  0.911   \n",
       "28            False                131       False    0.9479  0.000  0.719   \n",
       "29            False                152       False   -0.2960  0.167  0.833   \n",
       "...             ...                ...         ...       ...    ...    ...   \n",
       "774170         True                243       False    0.0000  0.000  1.000   \n",
       "774171        False                551       False   -0.8476  0.141  0.762   \n",
       "774172        False                636       False   -0.5994  0.134  0.831   \n",
       "774173         True                189       False    0.9826  0.025  0.769   \n",
       "774174         True                166       False    0.4019  0.000  0.816   \n",
       "774175        False                194       False    0.3612  0.000  0.865   \n",
       "774176         True                 90       False    0.9217  0.013  0.893   \n",
       "774177         True                143       False    0.0772  0.000  0.962   \n",
       "774178        False                118       False    0.7845  0.000  0.820   \n",
       "774179         True                290       False    0.4019  0.000  0.915   \n",
       "774180        False                656       False    0.4391  0.080  0.796   \n",
       "774181        False                339       False    0.6124  0.053  0.773   \n",
       "774182         True                320       False   -0.4767  0.052  0.948   \n",
       "774183         True                438       False    0.0000  0.000  1.000   \n",
       "774184         True                 32       False    0.1901  0.000  0.939   \n",
       "774185        False                717       False    0.7184  0.000  0.812   \n",
       "774186        False                166       False   -0.8151  0.086  0.876   \n",
       "774187        False                 64       False    0.4756  0.051  0.831   \n",
       "774188        False                204       False    0.8126  0.053  0.798   \n",
       "774189         True                127       False    0.9026  0.000  0.418   \n",
       "774190         True                284       False    0.0000  0.000  1.000   \n",
       "774191        False                355       False    0.0000  0.000  1.000   \n",
       "774192        False                224       False    0.9766  0.000  0.813   \n",
       "774193         True                 97       False    0.4576  0.000  0.912   \n",
       "774194         True               2719       False   -0.5574  0.117  0.793   \n",
       "774195         True                 65       False    0.6588  0.000  0.185   \n",
       "774196        False                784       False    0.7003  0.000  0.791   \n",
       "774197         True                164       False    0.0000  0.000  1.000   \n",
       "774198        False                 64       False   -0.4220  0.091  0.843   \n",
       "774199        False                334       False    0.0516  0.178  0.593   \n",
       "\n",
       "          pos  \n",
       "0       0.000  \n",
       "1       0.000  \n",
       "2       0.174  \n",
       "3       0.000  \n",
       "4       0.000  \n",
       "5       0.139  \n",
       "6       0.000  \n",
       "7       0.000  \n",
       "8       0.000  \n",
       "9       0.049  \n",
       "10      0.000  \n",
       "11      0.000  \n",
       "12      0.197  \n",
       "13      0.151  \n",
       "14      0.096  \n",
       "15      0.000  \n",
       "16      0.132  \n",
       "17      0.155  \n",
       "18      0.000  \n",
       "19      0.232  \n",
       "20      0.000  \n",
       "21      0.159  \n",
       "22      0.000  \n",
       "23      0.106  \n",
       "24      0.159  \n",
       "25      0.205  \n",
       "26      0.204  \n",
       "27      0.089  \n",
       "28      0.281  \n",
       "29      0.000  \n",
       "...       ...  \n",
       "774170  0.000  \n",
       "774171  0.098  \n",
       "774172  0.035  \n",
       "774173  0.206  \n",
       "774174  0.184  \n",
       "774175  0.135  \n",
       "774176  0.094  \n",
       "774177  0.038  \n",
       "774178  0.180  \n",
       "774179  0.085  \n",
       "774180  0.125  \n",
       "774181  0.174  \n",
       "774182  0.000  \n",
       "774183  0.000  \n",
       "774184  0.061  \n",
       "774185  0.188  \n",
       "774186  0.038  \n",
       "774187  0.117  \n",
       "774188  0.149  \n",
       "774189  0.582  \n",
       "774190  0.000  \n",
       "774191  0.000  \n",
       "774192  0.187  \n",
       "774193  0.088  \n",
       "774194  0.089  \n",
       "774195  0.815  \n",
       "774196  0.209  \n",
       "774197  0.000  \n",
       "774198  0.065  \n",
       "774199  0.229  \n",
       "\n",
       "[774200 rows x 7 columns]>"
      ]
     },
     "execution_count": 35,
     "metadata": {},
     "output_type": "execute_result"
    }
   ],
   "source": [
    "import nltk\n",
    "import pandas as pd\n",
    "\n",
    "data = pd.read_csv(\"d:\\\\data\\\\ISTFinal\\FinalProjectDataSentiment.csv\")\n",
    "\n",
    "data = data[['GoodComment','MinutesAfterStory','SameAuthor','compound','neg','neu','pos']]\n",
    "\n",
    "data.head"
   ]
  },
  {
   "cell_type": "code",
   "execution_count": 36,
   "metadata": {},
   "outputs": [
    {
     "data": {
      "text/plain": [
       "<bound method NDFrame.head of         MinutesAfterStory  SameAuthor  compound    neg    neu    pos\n",
       "396629               1046       False    0.9642  0.000  0.858  0.142\n",
       "256166                515       False   -0.7964  0.142  0.858  0.000\n",
       "761632                115       False    0.7003  0.000  0.847  0.153\n",
       "278874                 17       False    0.0772  0.039  0.916  0.045\n",
       "371326                261       False    0.8750  0.000  0.744  0.256\n",
       "298515                132       False    0.4188  0.110  0.758  0.131\n",
       "574262                117       False    0.2960  0.000  0.855  0.145\n",
       "739217                691       False    0.6124  0.050  0.809  0.142\n",
       "741815                131       False    0.0000  0.000  1.000  0.000\n",
       "729207                 51       False    0.8484  0.040  0.729  0.230\n",
       "522761                 18       False    0.0000  0.000  1.000  0.000\n",
       "417139                219       False    0.7506  0.000  0.439  0.561\n",
       "81626                 155       False    0.8402  0.000  0.619  0.381\n",
       "35732                  42       False    0.2846  0.000  0.957  0.043\n",
       "713460                111       False   -0.2732  0.099  0.803  0.097\n",
       "501405                 83       False    0.8294  0.020  0.879  0.102\n",
       "529050                195       False    0.6091  0.051  0.880  0.069\n",
       "431757                145       False   -0.6808  0.434  0.566  0.000\n",
       "143549               3641       False    0.9283  0.000  0.397  0.603\n",
       "304456                 73       False    0.8619  0.044  0.679  0.277\n",
       "4650                   42       False    0.8519  0.000  0.601  0.399\n",
       "252607                324       False   -0.1901  0.124  0.775  0.101\n",
       "297823                135       False    0.6915  0.000  0.769  0.231\n",
       "610119                 21       False    0.0000  0.000  1.000  0.000\n",
       "437263                696       False    0.3612  0.000  0.954  0.046\n",
       "509191                 72       False   -0.9300  0.133  0.836  0.032\n",
       "254577                622       False    0.1761  0.165  0.609  0.226\n",
       "126726                115       False   -0.1779  0.064  0.936  0.000\n",
       "742034                 71       False    0.0000  0.000  1.000  0.000\n",
       "625368                363       False   -0.0772  0.068  0.878  0.054\n",
       "...                   ...         ...       ...    ...    ...    ...\n",
       "109975                 47       False    0.6597  0.000  0.934  0.066\n",
       "693087                260       False   -0.0644  0.032  0.926  0.041\n",
       "441225                192       False    0.3716  0.000  0.825  0.175\n",
       "291182                 53       False    0.1027  0.000  0.903  0.097\n",
       "359818                448       False    0.8899  0.000  0.757  0.243\n",
       "227174                132       False    0.5927  0.000  0.806  0.194\n",
       "562360                821       False    0.7592  0.033  0.862  0.106\n",
       "257703                271       False   -0.9062  0.260  0.740  0.000\n",
       "647587                284       False    0.8609  0.066  0.814  0.121\n",
       "727168                589       False    0.4824  0.000  0.827  0.173\n",
       "421741                 49       False   -0.2023  0.130  0.870  0.000\n",
       "617854                 27       False    0.7717  0.000  0.588  0.412\n",
       "227906                 27       False   -0.3944  0.187  0.689  0.124\n",
       "471981                 68       False    0.9633  0.000  0.829  0.171\n",
       "207309                 83       False    0.6369  0.000  0.833  0.167\n",
       "477460                158       False    0.5267  0.055  0.830  0.115\n",
       "210089                 64       False   -0.3664  0.118  0.772  0.110\n",
       "652385                 21       False    0.4696  0.000  0.917  0.083\n",
       "135749                436       False    0.3182  0.101  0.712  0.187\n",
       "683568                 81       False    0.0000  0.000  1.000  0.000\n",
       "328558                102       False    0.4215  0.067  0.783  0.150\n",
       "718180                576       False    0.8854  0.083  0.788  0.129\n",
       "176684                267        True    0.9382  0.007  0.886  0.107\n",
       "723903                 70       False   -0.1027  0.038  0.962  0.000\n",
       "690428                212       False    0.0000  0.000  1.000  0.000\n",
       "20357                 182       False    0.0000  0.000  1.000  0.000\n",
       "378097                450       False    0.9669  0.035  0.826  0.139\n",
       "52659                 220       False    0.4215  0.000  0.882  0.118\n",
       "171022                429       False    0.6418  0.000  0.842  0.158\n",
       "600511                608       False    0.0000  0.000  1.000  0.000\n",
       "\n",
       "[541940 rows x 6 columns]>"
      ]
     },
     "execution_count": 36,
     "metadata": {},
     "output_type": "execute_result"
    }
   ],
   "source": [
    "from sklearn.model_selection import train_test_split\n",
    "\n",
    "train, test = train_test_split(data, test_size = 0.3)\n",
    "\n",
    "trainY = train['GoodComment']\n",
    "trainX = train.drop('GoodComment', axis = 1)\n",
    "testY = test['GoodComment']\n",
    "testX = test.drop('GoodComment', axis = 1)\n",
    "\n",
    "trainX.head"
   ]
  },
  {
   "cell_type": "code",
   "execution_count": 15,
   "metadata": {},
   "outputs": [
    {
     "data": {
      "text/plain": [
       "0.5045078791010075"
      ]
     },
     "execution_count": 15,
     "metadata": {},
     "output_type": "execute_result"
    }
   ],
   "source": [
    "from sklearn.linear_model import LogisticRegression\n",
    "\n",
    "clf = LogisticRegression(solver='lbfgs').fit(trainX, trainY)\n",
    "\n",
    "clf.score(testX, testY)"
   ]
  },
  {
   "cell_type": "code",
   "execution_count": 21,
   "metadata": {},
   "outputs": [
    {
     "data": {
      "text/plain": [
       "0.5170111082407647"
      ]
     },
     "execution_count": 21,
     "metadata": {},
     "output_type": "execute_result"
    }
   ],
   "source": [
    "from sklearn.naive_bayes import MultinomialNB\n",
    "\n",
    "trainXnonneg = trainX\n",
    "testXnonneg = testX\n",
    "\n",
    "trainXnonneg['compound'] += 1\n",
    "testXnonneg['compound'] += 1\n",
    "trainXnonneg[trainXnonneg < 0 ] = 0\n",
    "\n",
    "clf = MultinomialNB().fit(trainXnonneg, trainY)\n",
    "\n",
    "clf.score(testXnonneg, testY)"
   ]
  },
  {
   "cell_type": "code",
   "execution_count": 22,
   "metadata": {},
   "outputs": [
    {
     "name": "stderr",
     "output_type": "stream",
     "text": [
      "D:\\Anaconda3\\lib\\site-packages\\sklearn\\svm\\base.py:196: FutureWarning: The default value of gamma will change from 'auto' to 'scale' in version 0.22 to account better for unscaled features. Set gamma explicitly to 'auto' or 'scale' to avoid this warning.\n",
      "  \"avoid this warning.\", FutureWarning)\n"
     ]
    },
    {
     "data": {
      "text/plain": [
       "0.5565013347110996"
      ]
     },
     "execution_count": 22,
     "metadata": {},
     "output_type": "execute_result"
    }
   ],
   "source": [
    "from sklearn import svm\n",
    "\n",
    "clf = svm.SVC().fit(trainX, trainY)\n",
    "\n",
    "clf.score(testX, testY)"
   ]
  },
  {
   "cell_type": "code",
   "execution_count": 37,
   "metadata": {},
   "outputs": [
    {
     "name": "stdout",
     "output_type": "stream",
     "text": [
      "[0.30808575 0.01699893 0.14370581 0.20192195 0.18400185 0.14528572]\n"
     ]
    },
    {
     "data": {
      "text/plain": [
       "0.5947601825540343"
      ]
     },
     "execution_count": 37,
     "metadata": {},
     "output_type": "execute_result"
    }
   ],
   "source": [
    "from sklearn.ensemble import RandomForestClassifier\n",
    "\n",
    "clf = RandomForestClassifier(n_estimators=200, max_depth=10,random_state=0).fit(trainX, trainY)\n",
    "\n",
    "print(clf.feature_importances_)\n",
    "clf.score(testX, testY)"
   ]
  },
  {
   "cell_type": "code",
   "execution_count": null,
   "metadata": {},
   "outputs": [],
   "source": []
  }
 ],
 "metadata": {
  "kernelspec": {
   "display_name": "Python 3",
   "language": "python",
   "name": "python3"
  },
  "language_info": {
   "codemirror_mode": {
    "name": "ipython",
    "version": 3
   },
   "file_extension": ".py",
   "mimetype": "text/x-python",
   "name": "python",
   "nbconvert_exporter": "python",
   "pygments_lexer": "ipython3",
   "version": "3.7.1"
  }
 },
 "nbformat": 4,
 "nbformat_minor": 2
}
