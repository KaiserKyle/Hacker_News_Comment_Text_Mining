{
 "cells": [
  {
   "cell_type": "code",
   "execution_count": 6,
   "metadata": {},
   "outputs": [],
   "source": [
    "import pandas as pd\n",
    "import numpy as np\n",
    "import nltk\n",
    "from sklearn.preprocessing import LabelEncoder\n",
    "\n",
    "data = pd.read_csv(\"d:\\\\data\\\\ISTFinal\\\\FinalProjectDataSentiment.csv\")\n",
    "data = data.replace(np.nan, '', regex=True)\n",
    "\n",
    "from sklearn.feature_extraction.text import CountVectorizer\n",
    "\n",
    "from sklearn.model_selection import train_test_split\n",
    "train, test = train_test_split(data, test_size=0.3)\n",
    "\n",
    "trainY = train['GoodComment']\n",
    "trainX = train[['MinutesAfterStory','SameAuthor','compound','neg','neu','pos']]\n",
    "testY = test['GoodComment']\n",
    "testX = test[['MinutesAfterStory','SameAuthor','compound','neg','neu','pos']]"
   ]
  },
  {
   "cell_type": "code",
   "execution_count": 10,
   "metadata": {},
   "outputs": [
    {
     "name": "stdout",
     "output_type": "stream",
     "text": [
      "[0.30372646 0.01741712 0.14240723 0.20522418 0.17709411 0.15413091]\n",
      "[[0.50562795 0.49437205]\n",
      " [0.38371835 0.61628165]\n",
      " [0.57749127 0.42250873]\n",
      " ...\n",
      " [0.58075509 0.41924491]\n",
      " [0.61487712 0.38512288]\n",
      " [0.53431159 0.46568841]]\n"
     ]
    }
   ],
   "source": [
    "from sklearn.ensemble import RandomForestClassifier\n",
    "\n",
    "clf = RandomForestClassifier(n_estimators=200, max_depth=10,random_state=0).fit(trainX, trainY)\n",
    "\n",
    "print(clf.feature_importances_)\n",
    "rfPredict = clf.predict_proba(testX)\n",
    "\n",
    "print(rfPredict)"
   ]
  },
  {
   "cell_type": "code",
   "execution_count": 12,
   "metadata": {},
   "outputs": [
    {
     "name": "stdout",
     "output_type": "stream",
     "text": [
      "[[7.19988550e-01 2.80011450e-01]\n",
      " [5.70161867e-01 4.29838133e-01]\n",
      " [9.99926161e-01 7.38388701e-05]\n",
      " ...\n",
      " [1.00000000e+00 5.94262714e-21]\n",
      " [9.26236680e-01 7.37633195e-02]\n",
      " [9.93257013e-01 6.74298661e-03]]\n"
     ]
    }
   ],
   "source": [
    "from sklearn.naive_bayes import MultinomialNB\n",
    "\n",
    "gram12_count_vectorizer = CountVectorizer(encoding='latin-1', ngram_range=(1,2), stop_words='english')\n",
    "X_train_vec = gram12_count_vectorizer.fit_transform(train.CommentText)\n",
    "X_test_vec = gram12_count_vectorizer.transform(test.CommentText)\n",
    "\n",
    "nb_clf= MultinomialNB()\n",
    "nb_clf.fit(X_train_vec,train.GoodComment)\n",
    "\n",
    "nbPredict = nb_clf.predict_proba(X_test_vec)\n",
    "\n",
    "print(nbPredict)"
   ]
  },
  {
   "cell_type": "code",
   "execution_count": 38,
   "metadata": {},
   "outputs": [
    {
     "data": {
      "text/plain": [
       "0.663570998019461"
      ]
     },
     "execution_count": 38,
     "metadata": {},
     "output_type": "execute_result"
    }
   ],
   "source": [
    "from sklearn.metrics import accuracy_score\n",
    "\n",
    "rfDf = pd.DataFrame(rfPredict)\n",
    "nbDf = pd.DataFrame(nbPredict)\n",
    "\n",
    "combinedDf = pd.DataFrame(list(zip(rfDf[0], nbDf[0])))\n",
    "combinedPredictions = combinedDf.mean(1)\n",
    "\n",
    "pred = combinedPredictions < 0.5\n",
    "accuracy_score(testY, pred)"
   ]
  },
  {
   "cell_type": "code",
   "execution_count": null,
   "metadata": {},
   "outputs": [],
   "source": []
  }
 ],
 "metadata": {
  "kernelspec": {
   "display_name": "Python 3",
   "language": "python",
   "name": "python3"
  },
  "language_info": {
   "codemirror_mode": {
    "name": "ipython",
    "version": 3
   },
   "file_extension": ".py",
   "mimetype": "text/x-python",
   "name": "python",
   "nbconvert_exporter": "python",
   "pygments_lexer": "ipython3",
   "version": "3.7.1"
  }
 },
 "nbformat": 4,
 "nbformat_minor": 2
}
